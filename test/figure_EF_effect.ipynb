{
 "cells": [
  {
   "cell_type": "code",
   "execution_count": 1,
   "metadata": {},
   "outputs": [],
   "source": [
    "import matplotlib.pyplot as plt\n",
    "import numpy as np\n",
    "import midii\n",
    "import copy\n",
    "from pathlib import Path"
   ]
  },
  {
   "cell_type": "code",
   "execution_count": null,
   "metadata": {},
   "outputs": [
    {
     "data": {
      "text/plain": [
       "'ba_05688_-4_a_s02_m_02.mid'"
      ]
     },
     "execution_count": 2,
     "metadata": {},
     "output_type": "execute_result"
    }
   ],
   "source": [
    "print(midii.sample.dataset[0])\n",
    "mid = midii.MidiFile(\n",
    "    midii.sample.dataset[0], convert_1_to_0=True, lyric_encoding=\"cp949\"\n",
    ")\n",
    "Path(mid.filename).name"
   ]
  },
  {
   "cell_type": "code",
   "execution_count": 3,
   "metadata": {},
   "outputs": [],
   "source": [
    "def calculate_absolute_times(delta_times):\n",
    "    \"\"\"Calculates absolute times from delta times.\"\"\"\n",
    "    return np.cumsum(np.array(delta_times, dtype=np.int64))"
   ]
  },
  {
   "cell_type": "code",
   "execution_count": 4,
   "metadata": {},
   "outputs": [
    {
     "name": "stdout",
     "output_type": "stream",
     "text": [
      "929\n"
     ]
    }
   ],
   "source": [
    "# --- Generate Data for Plotting ---\n",
    "original_abs_times = calculate_absolute_times(mid.times)\n",
    "\n",
    "mid_quant_wo_ef = copy.deepcopy(mid)\n",
    "mid_quant_wo_ef .quantize(unit=\"32\", sync_error_mitigation=False)\n",
    "quantized_abs_times_naive = calculate_absolute_times(mid_quant_wo_ef.times)\n",
    "\n",
    "mid_quant_w_ef = copy.deepcopy(mid)\n",
    "mid_quant_w_ef.quantize(unit=\"32\")\n",
    "quantized_abs_times_with_EF = calculate_absolute_times(mid_quant_w_ef.times)\n",
    "\n",
    "# Calculate drift (deviation from original absolute time)\n",
    "drift_naive = quantized_abs_times_naive - original_abs_times\n",
    "drift_with_EF = quantized_abs_times_with_EF - original_abs_times\n",
    "\n",
    "# Use event index as x-axis for simplicity\n",
    "print(len(mid.times)) # 929\n",
    "# event_index = np.arange(len(mid.times))\n",
    "event_index = np.arange(400)\n",
    "\n",
    "subset = slice(0, 400, 1)\n",
    "# subset = slice(0, None, 1)\n",
    "drift_naive = drift_naive[subset]\n",
    "drift_with_EF = drift_with_EF[subset] \n",
    "event_index = event_index[subset] "
   ]
  },
  {
   "cell_type": "code",
   "execution_count": 5,
   "metadata": {},
   "outputs": [
    {
     "name": "stdout",
     "output_type": "stream",
     "text": [
      "32640 32640 32025\n",
      "Final accumulated error(w EF)=0\n",
      "Final accumulated error(wo EF)=615\n"
     ]
    }
   ],
   "source": [
    "abs_time = sum(mid.times)\n",
    "abs_time_quant_w_ef = sum(mid_quant_w_ef.times)\n",
    "abs_time_quant_wo_ef = sum(mid_quant_wo_ef.times)\n",
    "print(abs_time, abs_time_quant_w_ef, abs_time_quant_wo_ef)\n",
    "print(f\"Final accumulated error(w EF)={abs(abs_time - abs_time_quant_w_ef)}\")\n",
    "print(f\"Final accumulated error(wo EF)={abs(abs_time - abs_time_quant_wo_ef)}\")"
   ]
  },
  {
   "cell_type": "code",
   "execution_count": 6,
   "metadata": {},
   "outputs": [
    {
     "name": "stdout",
     "output_type": "stream",
     "text": [
      "Mean Absolute Error(w EF)=3.75\n",
      "Mean Absolute Error(wo EF)=342.75\n"
     ]
    }
   ],
   "source": [
    "abs_times = np.cumsum(mid.times)\n",
    "abs_times_quant_w_ef = np.cumsum(mid_quant_w_ef.times)\n",
    "abs_times_quant_wo_ef = np.cumsum(mid_quant_wo_ef.times)\n",
    "MAE_w_ef = np.mean(abs(abs_times - abs_times_quant_w_ef))\n",
    "MAE_wo_ef = np.mean(abs(abs_times - abs_times_quant_wo_ef))\n",
    "print(f\"Mean Absolute Error(w EF)={MAE_w_ef:.2f}\")\n",
    "print(f\"Mean Absolute Error(wo EF)={MAE_wo_ef:.2f}\")"
   ]
  },
  {
   "cell_type": "code",
   "execution_count": 7,
   "metadata": {},
   "outputs": [
    {
     "name": "stdout",
     "output_type": "stream",
     "text": [
      "Root Mean Square Error(w EF)=18.65\n",
      "Root Mean Square Error(wo EF)=154461.96\n"
     ]
    }
   ],
   "source": [
    "RMSE_w_ef = np.mean(np.square(abs_times - abs_times_quant_w_ef))\n",
    "RMSE_wo_ef = np.mean(np.square(abs_times - abs_times_quant_wo_ef))\n",
    "print(f\"Root Mean Square Error(w EF)={RMSE_w_ef:.2f}\")\n",
    "print(f\"Root Mean Square Error(wo EF)={RMSE_wo_ef:.2f}\")"
   ]
  }
 ],
 "metadata": {
  "kernelspec": {
   "display_name": "midii-exp",
   "language": "python",
   "name": "python3"
  },
  "language_info": {
   "codemirror_mode": {
    "name": "ipython",
    "version": 3
   },
   "file_extension": ".py",
   "mimetype": "text/x-python",
   "name": "python",
   "nbconvert_exporter": "python",
   "pygments_lexer": "ipython3",
   "version": "3.13.1"
  }
 },
 "nbformat": 4,
 "nbformat_minor": 2
}
