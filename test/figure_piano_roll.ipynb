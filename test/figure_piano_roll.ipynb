{
 "cells": [
  {
   "cell_type": "code",
   "execution_count": null,
   "metadata": {},
   "outputs": [],
   "source": [
    "import midii\n",
    "import copy\n",
    "from pathlib import Path"
   ]
  },
  {
   "cell_type": "code",
   "execution_count": null,
   "metadata": {},
   "outputs": [
    {
     "data": {
      "text/plain": [
       "'ba_05688_-4_a_s02_m_02.mid'"
      ]
     },
     "execution_count": 4,
     "metadata": {},
     "output_type": "execute_result"
    }
   ],
   "source": [
    "mid = midii.MidiFile(\n",
    "    midii.sample.dataset[0], convert_1_to_0=True, lyric_encoding=\"cp949\"\n",
    ")\n",
    "Path(mid.filename).name"
   ]
  },
  {
   "cell_type": "code",
   "execution_count": 5,
   "metadata": {},
   "outputs": [],
   "source": [
    "mid_q32 = copy.deepcopy(mid)\n",
    "mid_q32.quantize(unit=\"32\")"
   ]
  },
  {
   "cell_type": "code",
   "execution_count": 6,
   "metadata": {},
   "outputs": [],
   "source": [
    "def mean_grid_alignment_error(items, unit_beat_ticks):\n",
    "    total_error = 0\n",
    "    for x in items:\n",
    "        error = x['end'] % unit_beat_ticks\n",
    "        if error < unit_beat_ticks/2:\n",
    "            total_error += error\n",
    "        else:\n",
    "            total_error += unit_beat_ticks - error\n",
    "        error = x['start'] % unit_beat_ticks\n",
    "        if error < unit_beat_ticks/2:\n",
    "            total_error += error\n",
    "        else:\n",
    "            total_error += unit_beat_ticks - error\n",
    "    return total_error/len(items)"
   ]
  },
  {
   "cell_type": "code",
   "execution_count": 7,
   "metadata": {},
   "outputs": [
    {
     "name": "stdout",
     "output_type": "stream",
     "text": [
      "Mean Grid Alignment Error=7.676\n",
      "Mean Grid Alignment Error=0.0\n"
     ]
    }
   ],
   "source": [
    "\n",
    "print(f\"Mean Grid Alignment Error={mean_grid_alignment_error(mid.to_json(), 15):.3f}\")\n",
    "print(f\"Mean Grid Alignment Error={mean_grid_alignment_error(mid_q32.to_json(), 15)}\")"
   ]
  }
 ],
 "metadata": {
  "kernelspec": {
   "display_name": "midii-exp",
   "language": "python",
   "name": "python3"
  },
  "language_info": {
   "codemirror_mode": {
    "name": "ipython",
    "version": 3
   },
   "file_extension": ".py",
   "mimetype": "text/x-python",
   "name": "python",
   "nbconvert_exporter": "python",
   "pygments_lexer": "ipython3",
   "version": "3.13.1"
  }
 },
 "nbformat": 4,
 "nbformat_minor": 2
}
