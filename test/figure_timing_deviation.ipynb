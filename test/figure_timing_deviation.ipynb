{
 "cells": [
  {
   "cell_type": "code",
   "execution_count": 14,
   "metadata": {},
   "outputs": [],
   "source": [
    "import numpy as np\n",
    "import midii\n",
    "import copy\n",
    "from pathlib import Path"
   ]
  },
  {
   "cell_type": "code",
   "execution_count": 15,
   "metadata": {},
   "outputs": [],
   "source": [
    "def normalize(json):\n",
    "    offset = json[0][\"start\"]\n",
    "    for note in json:\n",
    "        note[\"start\"] -= offset\n",
    "        note[\"end\"] -= offset\n",
    "    return json"
   ]
  },
  {
   "cell_type": "code",
   "execution_count": 16,
   "metadata": {},
   "outputs": [
    {
     "data": {
      "text/plain": [
       "'ba_05688_-4_a_s02_m_02.mid'"
      ]
     },
     "execution_count": 16,
     "metadata": {},
     "output_type": "execute_result"
    }
   ],
   "source": [
    "mid = midii.MidiFile(\n",
    "    midii.sample.dataset[0], convert_1_to_0=True, lyric_encoding=\"cp949\"\n",
    ")\n",
    "Path(mid.filename).name"
   ]
  },
  {
   "cell_type": "code",
   "execution_count": 17,
   "metadata": {},
   "outputs": [],
   "source": [
    "mid_q4 = copy.deepcopy(mid)\n",
    "mid_q4.quantize(unit=\"4\")\n",
    "mid_q8 = copy.deepcopy(mid)\n",
    "mid_q8.quantize(unit=\"8\")\n",
    "mid_q16 = copy.deepcopy(mid)\n",
    "mid_q16.quantize(unit=\"16\")\n",
    "mid_q32 = copy.deepcopy(mid)\n",
    "mid_q32.quantize(unit=\"32\")\n",
    "mid_q64 = copy.deepcopy(mid)\n",
    "mid_q64.quantize(unit=\"64\")\n",
    "mid_q128 = copy.deepcopy(mid)\n",
    "mid_q128.quantize(unit=\"128\")\n",
    "mid_q256 = copy.deepcopy(mid)\n",
    "mid_q256.quantize(unit=\"256\")\n",
    "\n",
    "subset = slice(4, 62, 1)\n",
    "dataset = [\n",
    "    normalize(mid.to_json()[subset]),\n",
    "    normalize(mid_q4.to_json()[subset]),\n",
    "    normalize(mid_q8.to_json()[subset]),\n",
    "    normalize(mid_q16.to_json()[subset]),\n",
    "    normalize(mid_q32.to_json()[subset]),\n",
    "    normalize(mid_q64.to_json()[subset]),\n",
    "    normalize(mid_q128.to_json()[subset]),\n",
    "]"
   ]
  },
  {
   "cell_type": "code",
   "execution_count": 18,
   "metadata": {},
   "outputs": [
    {
     "name": "stdout",
     "output_type": "stream",
     "text": [
      "Mean Absolute Error(quantized 1/4 note)=28.61\n"
     ]
    }
   ],
   "source": [
    "abs_times = np.cumsum(mid.times)\n",
    "abs_times_quant_4 = np.cumsum(mid_q4.times)\n",
    "MAE_q4 = np.mean(abs(abs_times - abs_times_quant_4))\n",
    "print(f\"Mean Absolute Error(quantized 1/4 note)={MAE_q4:.2f}\")"
   ]
  },
  {
   "cell_type": "code",
   "execution_count": 19,
   "metadata": {},
   "outputs": [
    {
     "name": "stdout",
     "output_type": "stream",
     "text": [
      "Mean Absolute Error(quantized 1/4 note)=28.61\n",
      "Mean Absolute Error(quantized 1/8 note)=16.26\n",
      "Mean Absolute Error(quantized 1/16 note)=6.17\n",
      "Mean Absolute Error(quantized 1/32 note)=3.75\n",
      "Mean Absolute Error(quantized 1/64 note)=1.69\n",
      "Mean Absolute Error(quantized 1/128 note)=0.70\n",
      "Mean Absolute Error(quantized 1/256 note)=0.00\n"
     ]
    }
   ],
   "source": [
    "abs_times = np.cumsum(mid.times)\n",
    "for i, _mid in enumerate([mid_q4, mid_q8, mid_q16, mid_q32, mid_q64, mid_q128, mid_q256]) :\n",
    "    abs_times_quant = np.cumsum(_mid.times)\n",
    "    MAE = np.mean(abs(abs_times - abs_times_quant))\n",
    "    print(f\"Mean Absolute Error(quantized 1/{4*(2**(i))} note)={MAE:.2f}\")"
   ]
  },
  {
   "cell_type": "code",
   "execution_count": null,
   "metadata": {},
   "outputs": [],
   "source": []
  }
 ],
 "metadata": {
  "kernelspec": {
   "display_name": "midii-exp",
   "language": "python",
   "name": "python3"
  },
  "language_info": {
   "codemirror_mode": {
    "name": "ipython",
    "version": 3
   },
   "file_extension": ".py",
   "mimetype": "text/x-python",
   "name": "python",
   "nbconvert_exporter": "python",
   "pygments_lexer": "ipython3",
   "version": "3.13.1"
  }
 },
 "nbformat": 4,
 "nbformat_minor": 2
}
